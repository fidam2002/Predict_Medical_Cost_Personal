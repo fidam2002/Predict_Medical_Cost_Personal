{
 "cells": [
  {
   "cell_type": "code",
   "execution_count": 1,
   "metadata": {},
   "outputs": [],
   "source": [
    "import pandas as pd\n",
    "import numpy as np\n",
    "import warnings\n",
    "warnings.filterwarnings(\"ignore\")"
   ]
  },
  {
   "cell_type": "code",
   "execution_count": 2,
   "metadata": {},
   "outputs": [
    {
     "data": {
      "text/html": [
       "<div>\n",
       "<style scoped>\n",
       "    .dataframe tbody tr th:only-of-type {\n",
       "        vertical-align: middle;\n",
       "    }\n",
       "\n",
       "    .dataframe tbody tr th {\n",
       "        vertical-align: top;\n",
       "    }\n",
       "\n",
       "    .dataframe thead th {\n",
       "        text-align: right;\n",
       "    }\n",
       "</style>\n",
       "<table border=\"1\" class=\"dataframe\">\n",
       "  <thead>\n",
       "    <tr style=\"text-align: right;\">\n",
       "      <th></th>\n",
       "      <th>age</th>\n",
       "      <th>sex</th>\n",
       "      <th>bmi</th>\n",
       "      <th>children</th>\n",
       "      <th>smoker</th>\n",
       "      <th>charges</th>\n",
       "    </tr>\n",
       "  </thead>\n",
       "  <tbody>\n",
       "    <tr>\n",
       "      <th>0</th>\n",
       "      <td>19</td>\n",
       "      <td>0</td>\n",
       "      <td>27.900</td>\n",
       "      <td>0</td>\n",
       "      <td>1</td>\n",
       "      <td>16884.92400</td>\n",
       "    </tr>\n",
       "    <tr>\n",
       "      <th>1</th>\n",
       "      <td>18</td>\n",
       "      <td>1</td>\n",
       "      <td>33.770</td>\n",
       "      <td>1</td>\n",
       "      <td>0</td>\n",
       "      <td>1725.55230</td>\n",
       "    </tr>\n",
       "    <tr>\n",
       "      <th>2</th>\n",
       "      <td>28</td>\n",
       "      <td>1</td>\n",
       "      <td>33.000</td>\n",
       "      <td>3</td>\n",
       "      <td>0</td>\n",
       "      <td>4449.46200</td>\n",
       "    </tr>\n",
       "    <tr>\n",
       "      <th>3</th>\n",
       "      <td>33</td>\n",
       "      <td>1</td>\n",
       "      <td>22.705</td>\n",
       "      <td>0</td>\n",
       "      <td>0</td>\n",
       "      <td>21984.47061</td>\n",
       "    </tr>\n",
       "    <tr>\n",
       "      <th>4</th>\n",
       "      <td>32</td>\n",
       "      <td>1</td>\n",
       "      <td>28.880</td>\n",
       "      <td>0</td>\n",
       "      <td>0</td>\n",
       "      <td>3866.85520</td>\n",
       "    </tr>\n",
       "  </tbody>\n",
       "</table>\n",
       "</div>"
      ],
      "text/plain": [
       "   age  sex     bmi  children  smoker      charges\n",
       "0   19    0  27.900         0       1  16884.92400\n",
       "1   18    1  33.770         1       0   1725.55230\n",
       "2   28    1  33.000         3       0   4449.46200\n",
       "3   33    1  22.705         0       0  21984.47061\n",
       "4   32    1  28.880         0       0   3866.85520"
      ]
     },
     "execution_count": 2,
     "metadata": {},
     "output_type": "execute_result"
    }
   ],
   "source": [
    "df = pd.read_csv('clean.csv', index_col = 0)\n",
    "df.head()"
   ]
  },
  {
   "cell_type": "markdown",
   "metadata": {},
   "source": [
    "# Import Package"
   ]
  },
  {
   "cell_type": "code",
   "execution_count": 3,
   "metadata": {},
   "outputs": [],
   "source": [
    "from sklearn.model_selection import train_test_split, cross_val_score, GridSearchCV, RandomizedSearchCV\n",
    "from sklearn.preprocessing import RobustScaler\n",
    "from sklearn.linear_model import LinearRegression,ElasticNet\n",
    "from sklearn.metrics import mean_squared_error, r2_score, mean_absolute_error\n",
    "from sklearn.ensemble import RandomForestRegressor\n",
    "from sklearn.tree import DecisionTreeRegressor\n",
    "from xgboost import XGBRegressor"
   ]
  },
  {
   "cell_type": "markdown",
   "metadata": {},
   "source": [
    "#### Datasets splitting"
   ]
  },
  {
   "cell_type": "code",
   "execution_count": 4,
   "metadata": {},
   "outputs": [
    {
     "data": {
      "text/plain": [
       "((1070, 5), (268, 5), (1070,), (268,))"
      ]
     },
     "execution_count": 4,
     "metadata": {},
     "output_type": "execute_result"
    }
   ],
   "source": [
    "X = df.drop(columns=\"charges\")\n",
    "y = df.charges\n",
    "\n",
    "X_train, X_test, y_train, y_test = train_test_split(X, y, test_size=0.2, random_state=42)\n",
    "X_train.shape, X_test.shape, y_train.shape, y_test.shape"
   ]
  },
  {
   "cell_type": "markdown",
   "metadata": {},
   "source": [
    "#### Scalling"
   ]
  },
  {
   "cell_type": "code",
   "execution_count": 5,
   "metadata": {},
   "outputs": [],
   "source": [
    "scaler = RobustScaler()\n",
    "\n",
    "X_train_scaled = scaler.fit_transform(X_train)\n",
    "X_test_scaled = scaler.fit_transform(X_test)"
   ]
  },
  {
   "cell_type": "markdown",
   "metadata": {},
   "source": [
    "Penggunaan scaler untuk me-normalize data"
   ]
  },
  {
   "cell_type": "code",
   "execution_count": 6,
   "metadata": {},
   "outputs": [
    {
     "data": {
      "text/html": [
       "<div>\n",
       "<style scoped>\n",
       "    .dataframe tbody tr th:only-of-type {\n",
       "        vertical-align: middle;\n",
       "    }\n",
       "\n",
       "    .dataframe tbody tr th {\n",
       "        vertical-align: top;\n",
       "    }\n",
       "\n",
       "    .dataframe thead th {\n",
       "        text-align: right;\n",
       "    }\n",
       "</style>\n",
       "<table border=\"1\" class=\"dataframe\">\n",
       "  <thead>\n",
       "    <tr style=\"text-align: right;\">\n",
       "      <th></th>\n",
       "      <th>0</th>\n",
       "      <th>1</th>\n",
       "      <th>2</th>\n",
       "      <th>3</th>\n",
       "      <th>4</th>\n",
       "    </tr>\n",
       "  </thead>\n",
       "  <tbody>\n",
       "    <tr>\n",
       "      <th>0</th>\n",
       "      <td>0.270833</td>\n",
       "      <td>-1.0</td>\n",
       "      <td>-1.237449</td>\n",
       "      <td>0.5</td>\n",
       "      <td>0.0</td>\n",
       "    </tr>\n",
       "    <tr>\n",
       "      <th>1</th>\n",
       "      <td>0.312500</td>\n",
       "      <td>-1.0</td>\n",
       "      <td>-0.710387</td>\n",
       "      <td>-0.5</td>\n",
       "      <td>0.0</td>\n",
       "    </tr>\n",
       "    <tr>\n",
       "      <th>2</th>\n",
       "      <td>0.520833</td>\n",
       "      <td>-1.0</td>\n",
       "      <td>-0.645259</td>\n",
       "      <td>-0.5</td>\n",
       "      <td>0.0</td>\n",
       "    </tr>\n",
       "    <tr>\n",
       "      <th>3</th>\n",
       "      <td>-0.020833</td>\n",
       "      <td>-1.0</td>\n",
       "      <td>0.495703</td>\n",
       "      <td>2.0</td>\n",
       "      <td>0.0</td>\n",
       "    </tr>\n",
       "    <tr>\n",
       "      <th>4</th>\n",
       "      <td>0.604167</td>\n",
       "      <td>-1.0</td>\n",
       "      <td>-1.054123</td>\n",
       "      <td>1.0</td>\n",
       "      <td>0.0</td>\n",
       "    </tr>\n",
       "  </tbody>\n",
       "</table>\n",
       "</div>"
      ],
      "text/plain": [
       "          0    1         2    3    4\n",
       "0  0.270833 -1.0 -1.237449  0.5  0.0\n",
       "1  0.312500 -1.0 -0.710387 -0.5  0.0\n",
       "2  0.520833 -1.0 -0.645259 -0.5  0.0\n",
       "3 -0.020833 -1.0  0.495703  2.0  0.0\n",
       "4  0.604167 -1.0 -1.054123  1.0  0.0"
      ]
     },
     "execution_count": 6,
     "metadata": {},
     "output_type": "execute_result"
    }
   ],
   "source": [
    "pd.DataFrame(X_train_scaled).head()"
   ]
  },
  {
   "cell_type": "code",
   "execution_count": 7,
   "metadata": {},
   "outputs": [],
   "source": [
    "def evaluation_metrics(model, x_test, y_test):\n",
    "    prediksi = model.predict(x_test)\n",
    "    MAE = mean_absolute_error(y_test, prediksi)\n",
    "    MSE = mean_squared_error(y_test, prediksi)\n",
    "    RMSE = np.sqrt(MSE)\n",
    "    r2 = r2_score(y_test, prediksi)\n",
    "    print('Evaluation Metrics Model', model)\n",
    "    print(f'MAE: {round(MAE, 3)}')\n",
    "    print(f'MSE: {round(MSE, 3)}')\n",
    "    print(f'RMSE: {round(RMSE, 3)}')\n",
    "    print(f'R2_SCORE: {round(r2, 3)}')\n",
    "    val = dict()\n",
    "    val['MAE'] = MAE\n",
    "    val['MSE'] = MSE\n",
    "    val['RMSE'] = RMSE\n",
    "    val['R2'] = r2\n",
    "    return val"
   ]
  },
  {
   "cell_type": "markdown",
   "metadata": {},
   "source": [
    "# Training Dataset"
   ]
  },
  {
   "cell_type": "markdown",
   "metadata": {},
   "source": [
    "### Linear Regression"
   ]
  },
  {
   "cell_type": "markdown",
   "metadata": {},
   "source": [
    "#### Base"
   ]
  },
  {
   "cell_type": "code",
   "execution_count": 8,
   "metadata": {},
   "outputs": [
    {
     "name": "stdout",
     "output_type": "stream",
     "text": [
      "Evaluation Metrics Model LinearRegression()\n",
      "MAE: 4253.334\n",
      "MSE: 34088339.546\n",
      "RMSE: 5838.522\n",
      "R2_SCORE: 0.78\n"
     ]
    }
   ],
   "source": [
    "LinReg = LinearRegression()\n",
    "\n",
    "LinReg.fit(X_train_scaled, y_train)\n",
    "\n",
    "LinRegAcc = evaluation_metrics(LinReg, X_test_scaled, y_test)"
   ]
  },
  {
   "cell_type": "markdown",
   "metadata": {},
   "source": [
    "#### Hyperparameter Tuning"
   ]
  },
  {
   "cell_type": "code",
   "execution_count": 9,
   "metadata": {},
   "outputs": [],
   "source": [
    "paramLinReg = {\n",
    "    'fit_intercept': [True, False],\n",
    "    'normalize': [True, False]\n",
    "}"
   ]
  },
  {
   "cell_type": "code",
   "execution_count": 10,
   "metadata": {},
   "outputs": [
    {
     "name": "stdout",
     "output_type": "stream",
     "text": [
      "Fitting 5 folds for each of 4 candidates, totalling 20 fits\n"
     ]
    },
    {
     "name": "stderr",
     "output_type": "stream",
     "text": [
      "[Parallel(n_jobs=-1)]: Using backend LokyBackend with 4 concurrent workers.\n"
     ]
    },
    {
     "name": "stdout",
     "output_type": "stream",
     "text": [
      "0.7804275808343701\n",
      "{'fit_intercept': True, 'normalize': True}\n"
     ]
    },
    {
     "name": "stderr",
     "output_type": "stream",
     "text": [
      "[Parallel(n_jobs=-1)]: Done  20 out of  20 | elapsed:    3.9s finished\n"
     ]
    }
   ],
   "source": [
    "LinReg_param = GridSearchCV(LinearRegression(), paramLinReg, cv=5, n_jobs=-1, verbose=1)\n",
    "LinReg_param.fit(X_train_scaled, y_train)\n",
    "print(LinReg_param.score(X_test_scaled, y_test))\n",
    "print(LinReg_param.best_params_)"
   ]
  },
  {
   "cell_type": "code",
   "execution_count": 11,
   "metadata": {},
   "outputs": [
    {
     "name": "stdout",
     "output_type": "stream",
     "text": [
      "Evaluation Metrics Model LinearRegression(normalize=True)\n",
      "MAE: 4253.334\n",
      "MSE: 34088339.546\n",
      "RMSE: 5838.522\n",
      "R2_SCORE: 0.78\n"
     ]
    }
   ],
   "source": [
    "LinReg_best = LinReg_param.best_estimator_\n",
    "\n",
    "LinReg_best.fit(X_train_scaled, y_train)\n",
    "LinReg_best_acc = evaluation_metrics(LinReg_best, X_test_scaled, y_test)"
   ]
  },
  {
   "cell_type": "markdown",
   "metadata": {},
   "source": [
    "### ElasticNet"
   ]
  },
  {
   "cell_type": "markdown",
   "metadata": {},
   "source": [
    "#### Base"
   ]
  },
  {
   "cell_type": "code",
   "execution_count": 12,
   "metadata": {},
   "outputs": [
    {
     "name": "stdout",
     "output_type": "stream",
     "text": [
      "Evaluation Metrics Model ElasticNet()\n",
      "MAE: 7839.834\n",
      "MSE: 99728725.025\n",
      "RMSE: 9986.427\n",
      "R2_SCORE: 0.358\n"
     ]
    }
   ],
   "source": [
    "en = ElasticNet()\n",
    "\n",
    "en.fit(X_train_scaled, y_train)\n",
    "\n",
    "enAcc = evaluation_metrics(en, X_test_scaled, y_test)"
   ]
  },
  {
   "cell_type": "markdown",
   "metadata": {},
   "source": [
    "#### Hyperparameter Tuning"
   ]
  },
  {
   "cell_type": "code",
   "execution_count": 13,
   "metadata": {},
   "outputs": [],
   "source": [
    "param_en = {'alpha':[0.001,0.01,0.02, 0.024, 0.025, 0.026, 0.03, 1.0],\n",
    "               'fit_intercept':[True, False],\n",
    "               'normalize':[True, False]}"
   ]
  },
  {
   "cell_type": "code",
   "execution_count": 14,
   "metadata": {},
   "outputs": [
    {
     "name": "stderr",
     "output_type": "stream",
     "text": [
      "[Parallel(n_jobs=-1)]: Using backend LokyBackend with 4 concurrent workers.\n"
     ]
    },
    {
     "name": "stdout",
     "output_type": "stream",
     "text": [
      "Fitting 5 folds for each of 32 candidates, totalling 160 fits\n",
      "0.7802695681104839\n",
      "{'alpha': 0.001, 'fit_intercept': True, 'normalize': False}\n"
     ]
    },
    {
     "name": "stderr",
     "output_type": "stream",
     "text": [
      "[Parallel(n_jobs=-1)]: Done 130 tasks      | elapsed:    0.4s\n",
      "[Parallel(n_jobs=-1)]: Done 160 out of 160 | elapsed:    0.5s finished\n"
     ]
    }
   ],
   "source": [
    "en_param = GridSearchCV(en, param_en, cv=5, n_jobs=-1, verbose=1)\n",
    "en_param.fit(X_train_scaled, y_train)\n",
    "print(en_param.score(X_test_scaled, y_test))\n",
    "print(en_param.best_params_)"
   ]
  },
  {
   "cell_type": "code",
   "execution_count": 15,
   "metadata": {},
   "outputs": [
    {
     "name": "stdout",
     "output_type": "stream",
     "text": [
      "Evaluation Metrics Model ElasticNet(alpha=0.001)\n",
      "MAE: 4261.085\n",
      "MSE: 34112870.821\n",
      "RMSE: 5840.622\n",
      "R2_SCORE: 0.78\n"
     ]
    }
   ],
   "source": [
    "en_best = en_param.best_estimator_\n",
    "en_best.fit(X_train_scaled, y_train)\n",
    "en_best_acc = evaluation_metrics(en_best, X_test_scaled, y_test)"
   ]
  },
  {
   "cell_type": "markdown",
   "metadata": {},
   "source": [
    "### RandomForestRegressor"
   ]
  },
  {
   "cell_type": "markdown",
   "metadata": {},
   "source": [
    "#### Base"
   ]
  },
  {
   "cell_type": "code",
   "execution_count": 16,
   "metadata": {},
   "outputs": [
    {
     "name": "stdout",
     "output_type": "stream",
     "text": [
      "Evaluation Metrics Model RandomForestRegressor()\n",
      "MAE: 2623.865\n",
      "MSE: 20416583.356\n",
      "RMSE: 4518.471\n",
      "R2_SCORE: 0.868\n"
     ]
    }
   ],
   "source": [
    "rfg =RandomForestRegressor()\n",
    "\n",
    "rfg.fit(X_train_scaled, y_train)\n",
    "\n",
    "rfgAcc = evaluation_metrics(rfg, X_test_scaled, y_test)"
   ]
  },
  {
   "cell_type": "markdown",
   "metadata": {},
   "source": [
    "#### Hyperparameter Tuning"
   ]
  },
  {
   "cell_type": "code",
   "execution_count": 17,
   "metadata": {},
   "outputs": [],
   "source": [
    "param_rfg = {'n_estimators': [100, 250, 500, 750, 1000, 1200, 1400, 1600],\n",
    "             'max_depth': [None, 10, 30, 50, 70, 90, 100],\n",
    "             'max_features': ['auto', 0.3, 0.6, 0.8],\n",
    "             'min_samples_split' : np.arange(1,20),\n",
    "             'min_samples_leaf': np.arange(1,10),\n",
    "             'bootstrap' : [True, False],\n",
    "             'n_jobs' : [None, 1, 3, 5, 7, 9],\n",
    "            }"
   ]
  },
  {
   "cell_type": "code",
   "execution_count": 18,
   "metadata": {},
   "outputs": [
    {
     "name": "stdout",
     "output_type": "stream",
     "text": [
      "Fitting 5 folds for each of 30 candidates, totalling 150 fits\n"
     ]
    },
    {
     "name": "stderr",
     "output_type": "stream",
     "text": [
      "[Parallel(n_jobs=-1)]: Using backend LokyBackend with 4 concurrent workers.\n",
      "[Parallel(n_jobs=-1)]: Done  42 tasks      | elapsed:   58.4s\n",
      "[Parallel(n_jobs=-1)]: Done 150 out of 150 | elapsed:  3.2min finished\n"
     ]
    },
    {
     "name": "stdout",
     "output_type": "stream",
     "text": [
      "0.8822109650540595\n",
      "{'n_jobs': 3, 'n_estimators': 750, 'min_samples_split': 2, 'min_samples_leaf': 9, 'max_features': 0.8, 'max_depth': 10, 'bootstrap': True}\n"
     ]
    }
   ],
   "source": [
    "rfg_param = RandomizedSearchCV(RandomForestRegressor(), param_rfg, cv=5, n_iter=30, n_jobs=-1, verbose=1, random_state=42)\n",
    "rfg_param.fit(X_train_scaled, y_train)\n",
    "print(rfg_param.score(X_test_scaled, y_test))\n",
    "print(rfg_param.best_params_)"
   ]
  },
  {
   "cell_type": "code",
   "execution_count": 19,
   "metadata": {},
   "outputs": [
    {
     "name": "stdout",
     "output_type": "stream",
     "text": [
      "Evaluation Metrics Model RandomForestRegressor(max_depth=10, max_features=0.8, min_samples_leaf=9,\n",
      "                      n_estimators=750, n_jobs=3)\n",
      "MAE: 2588.258\n",
      "MSE: 18353396.252\n",
      "RMSE: 4284.086\n",
      "R2_SCORE: 0.882\n"
     ]
    }
   ],
   "source": [
    "rfg_best = rfg_param.best_estimator_\n",
    "rfg_best.fit(X_train_scaled, y_train)\n",
    "rfg_best_acc = evaluation_metrics(rfg_best, X_test_scaled, y_test)"
   ]
  },
  {
   "cell_type": "markdown",
   "metadata": {},
   "source": [
    "### XGBoostRegressor"
   ]
  },
  {
   "cell_type": "markdown",
   "metadata": {},
   "source": [
    "#### Base"
   ]
  },
  {
   "cell_type": "code",
   "execution_count": 20,
   "metadata": {},
   "outputs": [
    {
     "name": "stdout",
     "output_type": "stream",
     "text": [
      "[15:11:56] WARNING: src/objective/regression_obj.cu:152: reg:linear is now deprecated in favor of reg:squarederror.\n",
      "Evaluation Metrics Model XGBRegressor()\n",
      "MAE: 2547.741\n",
      "MSE: 18314411.499\n",
      "RMSE: 4279.534\n",
      "R2_SCORE: 0.882\n"
     ]
    }
   ],
   "source": [
    "xgb = XGBRegressor()\n",
    "xgb.fit(X_train_scaled, y_train)\n",
    "xgbAcc = evaluation_metrics(xgb, X_test_scaled, y_test)"
   ]
  },
  {
   "cell_type": "markdown",
   "metadata": {},
   "source": [
    "### Hyperparameter Tuning"
   ]
  },
  {
   "cell_type": "code",
   "execution_count": 21,
   "metadata": {},
   "outputs": [],
   "source": [
    "param_xgb = {'n_estimators': [100, 150, 200],\n",
    "             'learning_rate': [0.01, 0.05, 0.1, 0.5, 1], \n",
    "             'max_depth': [3, 4, 5, 6, 7],\n",
    "             'colsample_bytree': [0.4, 0.6, 0.7, 0.8, 1],\n",
    "             'gamma': [0.0, 0.1, 0.2],\n",
    "             'subsample': [0.4, 0.6, 0.8, 1],\n",
    "             'reg_alpha': [0, 0.01, 0.1, 1, 10],\n",
    "             'reg_lambda': [0, 0.01, 0.1, 1, 10]}"
   ]
  },
  {
   "cell_type": "code",
   "execution_count": 22,
   "metadata": {},
   "outputs": [
    {
     "name": "stdout",
     "output_type": "stream",
     "text": [
      "Fitting 5 folds for each of 30 candidates, totalling 150 fits\n"
     ]
    },
    {
     "name": "stderr",
     "output_type": "stream",
     "text": [
      "[Parallel(n_jobs=-1)]: Using backend LokyBackend with 4 concurrent workers.\n",
      "[Parallel(n_jobs=-1)]: Done  42 tasks      | elapsed:    3.7s\n"
     ]
    },
    {
     "name": "stdout",
     "output_type": "stream",
     "text": [
      "[15:12:08] WARNING: src/objective/regression_obj.cu:152: reg:linear is now deprecated in favor of reg:squarederror.\n",
      "0.879294867761957\n",
      "{'subsample': 0.4, 'reg_lambda': 10, 'reg_alpha': 0, 'n_estimators': 100, 'max_depth': 3, 'learning_rate': 0.1, 'gamma': 0.0, 'colsample_bytree': 1}\n"
     ]
    },
    {
     "name": "stderr",
     "output_type": "stream",
     "text": [
      "[Parallel(n_jobs=-1)]: Done 150 out of 150 | elapsed:   11.5s finished\n"
     ]
    }
   ],
   "source": [
    "xgb_param = RandomizedSearchCV(XGBRegressor(), param_xgb, cv=5, n_iter=30, n_jobs=-1, verbose=1, random_state=42)\n",
    "xgb_param.fit(X_train_scaled, y_train)\n",
    "print(xgb_param.score(X_test_scaled, y_test))\n",
    "print(xgb_param.best_params_)"
   ]
  },
  {
   "cell_type": "code",
   "execution_count": 23,
   "metadata": {},
   "outputs": [
    {
     "name": "stdout",
     "output_type": "stream",
     "text": [
      "[15:12:08] WARNING: src/objective/regression_obj.cu:152: reg:linear is now deprecated in favor of reg:squarederror.\n",
      "Evaluation Metrics Model XGBRegressor(gamma=0.0, reg_lambda=10, subsample=0.4)\n",
      "MAE: 2450.515\n",
      "MSE: 18739318.665\n",
      "RMSE: 4328.893\n",
      "R2_SCORE: 0.879\n"
     ]
    }
   ],
   "source": [
    "xgb_best = xgb_param.best_estimator_\n",
    "xgb_best.fit(X_train_scaled, y_train)\n",
    "xgb_best_acc = evaluation_metrics(xgb_best, X_test_scaled, y_test)"
   ]
  },
  {
   "cell_type": "markdown",
   "metadata": {},
   "source": [
    "# Evaluation"
   ]
  },
  {
   "cell_type": "code",
   "execution_count": 24,
   "metadata": {},
   "outputs": [],
   "source": [
    "MAE_default = [LinRegAcc['MAE'], enAcc['MAE'], rfgAcc['MAE'], xgbAcc['MAE']]\n",
    "\n",
    "MSE_default = [LinRegAcc['MSE'], enAcc['MSE'], rfgAcc['MSE'], xgbAcc['MSE']]\n",
    "\n",
    "RMSE_default = [LinRegAcc['RMSE'], enAcc['RMSE'], rfgAcc['RMSE'], xgbAcc['RMSE']]\n",
    "\n",
    "R2_default = [LinRegAcc['R2'], enAcc['R2'], rfgAcc['R2'], xgbAcc['R2']]\n",
    "\n",
    "MAE_HPT = [LinReg_best_acc['MAE'], en_best_acc['MAE'], rfg_best_acc['MAE'], xgb_best_acc['MAE']]\n",
    "\n",
    "MSE_HPT = [LinReg_best_acc['MSE'], en_best_acc['MSE'], rfg_best_acc['MSE'], xgb_best_acc['MSE']]\n",
    "\n",
    "RMSE_HPT = [LinReg_best_acc['RMSE'], en_best_acc['RMSE'], rfg_best_acc['RMSE'], xgb_best_acc['RMSE']]\n",
    "\n",
    "R2_HPT = [LinReg_best_acc['R2'], en_best_acc['R2'], rfg_best_acc['R2'], xgb_best_acc['R2']]\n",
    "\n",
    "best_model = pd.DataFrame({'MAE_default': MAE_default,\n",
    "                           'MAE_HPT': MAE_HPT,\n",
    "                          \"MSE_default\" : MSE_default,\n",
    "                            \"MSE_HPT\" : MSE_HPT,\n",
    "                          \"RMSE_default\": RMSE_default,\n",
    "                           \"RMSE_HPT\": RMSE_HPT,\n",
    "                          \"R2_default\" : R2_default,\n",
    "                          \"R2_HPT\" : R2_HPT},\n",
    "                           index = \"LinearRegression,ElasticNet,RandomForest,XGBoost\".split(','))"
   ]
  },
  {
   "cell_type": "code",
   "execution_count": 25,
   "metadata": {},
   "outputs": [],
   "source": [
    "best_model[\"MAE_default\"] = round(best_model[\"MAE_default\"], 3)\n",
    "best_model[\"MSE_default\"] = round(best_model[\"MSE_default\"], 3)\n",
    "best_model[\"RMSE_default\"] = round(best_model[\"RMSE_default\"], 3)\n",
    "best_model[\"R2_default\"] = round(best_model[\"R2_default\"], 3)\n",
    "best_model['MAE_HPT'] = round(best_model[\"MAE_HPT\"], 3)\n",
    "best_model[\"MSE_HPT\"] = round(best_model[\"MSE_HPT\"], 3)\n",
    "best_model[\"RMSE_HPT\"] = round(best_model[\"RMSE_HPT\"], 3)\n",
    "best_model[\"R2_HPT\"] = round(best_model[\"R2_HPT\"], 3)"
   ]
  },
  {
   "cell_type": "code",
   "execution_count": 26,
   "metadata": {},
   "outputs": [
    {
     "data": {
      "text/html": [
       "<div>\n",
       "<style scoped>\n",
       "    .dataframe tbody tr th:only-of-type {\n",
       "        vertical-align: middle;\n",
       "    }\n",
       "\n",
       "    .dataframe tbody tr th {\n",
       "        vertical-align: top;\n",
       "    }\n",
       "\n",
       "    .dataframe thead th {\n",
       "        text-align: right;\n",
       "    }\n",
       "</style>\n",
       "<table border=\"1\" class=\"dataframe\">\n",
       "  <thead>\n",
       "    <tr style=\"text-align: right;\">\n",
       "      <th></th>\n",
       "      <th>MAE_default</th>\n",
       "      <th>MAE_HPT</th>\n",
       "      <th>MSE_default</th>\n",
       "      <th>MSE_HPT</th>\n",
       "      <th>RMSE_default</th>\n",
       "      <th>RMSE_HPT</th>\n",
       "      <th>R2_default</th>\n",
       "      <th>R2_HPT</th>\n",
       "    </tr>\n",
       "  </thead>\n",
       "  <tbody>\n",
       "    <tr>\n",
       "      <th>LinearRegression</th>\n",
       "      <td>4253.334</td>\n",
       "      <td>4253.334</td>\n",
       "      <td>3.408834e+07</td>\n",
       "      <td>3.408834e+07</td>\n",
       "      <td>5838.522</td>\n",
       "      <td>5838.522</td>\n",
       "      <td>0.780</td>\n",
       "      <td>0.780</td>\n",
       "    </tr>\n",
       "    <tr>\n",
       "      <th>ElasticNet</th>\n",
       "      <td>7839.834</td>\n",
       "      <td>4261.085</td>\n",
       "      <td>9.972873e+07</td>\n",
       "      <td>3.411287e+07</td>\n",
       "      <td>9986.427</td>\n",
       "      <td>5840.622</td>\n",
       "      <td>0.358</td>\n",
       "      <td>0.780</td>\n",
       "    </tr>\n",
       "    <tr>\n",
       "      <th>RandomForest</th>\n",
       "      <td>2623.865</td>\n",
       "      <td>2588.258</td>\n",
       "      <td>2.041658e+07</td>\n",
       "      <td>1.835340e+07</td>\n",
       "      <td>4518.471</td>\n",
       "      <td>4284.086</td>\n",
       "      <td>0.868</td>\n",
       "      <td>0.882</td>\n",
       "    </tr>\n",
       "    <tr>\n",
       "      <th>XGBoost</th>\n",
       "      <td>2547.741</td>\n",
       "      <td>2450.515</td>\n",
       "      <td>1.831441e+07</td>\n",
       "      <td>1.873932e+07</td>\n",
       "      <td>4279.534</td>\n",
       "      <td>4328.893</td>\n",
       "      <td>0.882</td>\n",
       "      <td>0.879</td>\n",
       "    </tr>\n",
       "  </tbody>\n",
       "</table>\n",
       "</div>"
      ],
      "text/plain": [
       "                  MAE_default   MAE_HPT   MSE_default       MSE_HPT  \\\n",
       "LinearRegression     4253.334  4253.334  3.408834e+07  3.408834e+07   \n",
       "ElasticNet           7839.834  4261.085  9.972873e+07  3.411287e+07   \n",
       "RandomForest         2623.865  2588.258  2.041658e+07  1.835340e+07   \n",
       "XGBoost              2547.741  2450.515  1.831441e+07  1.873932e+07   \n",
       "\n",
       "                  RMSE_default  RMSE_HPT  R2_default  R2_HPT  \n",
       "LinearRegression      5838.522  5838.522       0.780   0.780  \n",
       "ElasticNet            9986.427  5840.622       0.358   0.780  \n",
       "RandomForest          4518.471  4284.086       0.868   0.882  \n",
       "XGBoost               4279.534  4328.893       0.882   0.879  "
      ]
     },
     "execution_count": 26,
     "metadata": {},
     "output_type": "execute_result"
    }
   ],
   "source": [
    "best_model"
   ]
  },
  {
   "cell_type": "markdown",
   "metadata": {},
   "source": [
    "Setelah dilakukan training pada dataset, didapatkan best score yaitu **0.88**, dengan nilai MSE dan RMSE yang lebih rendah maka diputuskan menggunakan model `RandomForest dengan best parameter`"
   ]
  },
  {
   "cell_type": "markdown",
   "metadata": {},
   "source": [
    "# Save Model"
   ]
  },
  {
   "cell_type": "code",
   "execution_count": 27,
   "metadata": {},
   "outputs": [],
   "source": [
    "import joblib"
   ]
  },
  {
   "cell_type": "code",
   "execution_count": 28,
   "metadata": {},
   "outputs": [
    {
     "name": "stdout",
     "output_type": "stream",
     "text": [
      "17339.16\n"
     ]
    }
   ],
   "source": [
    "model = rfg_best\n",
    "print(round((model.predict([[52,1,25,0,0]])[0]),2))"
   ]
  },
  {
   "cell_type": "code",
   "execution_count": 29,
   "metadata": {},
   "outputs": [
    {
     "data": {
      "text/plain": [
       "['ModelJoblib']"
      ]
     },
     "execution_count": 29,
     "metadata": {},
     "output_type": "execute_result"
    }
   ],
   "source": [
    "joblib.dump(model, 'ModelJoblib')"
   ]
  }
 ],
 "metadata": {
  "kernelspec": {
   "display_name": "Python 3",
   "language": "python",
   "name": "python3"
  },
  "language_info": {
   "codemirror_mode": {
    "name": "ipython",
    "version": 3
   },
   "file_extension": ".py",
   "mimetype": "text/x-python",
   "name": "python",
   "nbconvert_exporter": "python",
   "pygments_lexer": "ipython3",
   "version": "3.7.7"
  }
 },
 "nbformat": 4,
 "nbformat_minor": 4
}
